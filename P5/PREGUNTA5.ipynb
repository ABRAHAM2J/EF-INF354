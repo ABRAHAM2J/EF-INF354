{
 "cells": [
  {
   "cell_type": "markdown",
   "metadata": {},
   "source": [
    "**5. Realice sin librerías el algoritmo genético de las n-reinas.**"
   ]
  },
  {
   "cell_type": "code",
   "execution_count": 30,
   "metadata": {},
   "outputs": [],
   "source": [
    "import random\n",
    "# Esta funcion crea un individuo aleatorio para representar una disposición de reinas en el tablero. \n",
    "# El parámetro size indica el tamaño del tablero (N reinas), y el individuo es una lista donde cada \n",
    "# elemento representa la posición de una reina en una fila, respectivamente de la columna específica \n",
    "# del tablero\n",
    "def crear_individuo(size):\n",
    "    return [random.randint(0, size-1) for _ in range(size)]"
   ]
  },
  {
   "cell_type": "code",
   "execution_count": 31,
   "metadata": {},
   "outputs": [],
   "source": [
    "# Genera una población inicial de individuos. Recibe el tamaño del tablero (size) y el tamaño \n",
    "# de la población (population_size) como parámetros y crea una lista de individuos usando la \n",
    "# función crear_individuo.\n",
    "def crear_poblacion(size, population_size):\n",
    "    return [crear_individuo(size) for _ in range(population_size)]"
   ]
  },
  {
   "cell_type": "code",
   "execution_count": 32,
   "metadata": {},
   "outputs": [],
   "source": [
    "# Evalúa la calidad de un individuo (una disposición de reinas en el tablero) calculando \n",
    "# cuántas reinas no se atacan entre sí. Devuelve un valor que representa el número de reinas \n",
    "# que no se atacan mutuamente en el tablero.\n",
    "def fitness(individuo):\n",
    "    clashes = 0\n",
    "    n = len(individuo)\n",
    "    for i in range(n):\n",
    "        for j in range(i + 1, n):\n",
    "            if individuo[i] == individuo[j] or abs(individuo[i] - individuo[j]) == j - i:\n",
    "                clashes += 1\n",
    "    return n - clashes"
   ]
  },
  {
   "cell_type": "code",
   "execution_count": 33,
   "metadata": {},
   "outputs": [],
   "source": [
    "# Selecciona dos individuos aleatorios de la población para la reproducción. En este código, \n",
    "# se utiliza el método de selección aleatoria simple para elegir dos individuos de manera \n",
    "# aleatoria y sin reemplazo.\n",
    "def seleccionar_padres(poblacion):\n",
    "    padres = random.sample(poblacion, 2)\n",
    "    return padres[0], padres[1]"
   ]
  },
  {
   "cell_type": "code",
   "execution_count": 34,
   "metadata": {},
   "outputs": [],
   "source": [
    "# Realiza el cruce de dos individuos (padres) para crear descendencia (hijos). \n",
    "# En este caso, se elige aleatoriamente un punto de corte y se combinan partes de los padres \n",
    "# para crear dos hijos.\n",
    "def cruzar(padre1, padre2):\n",
    "    punto_corte = random.randint(1, len(padre1) - 1)\n",
    "    hijo1 = padre1[:punto_corte] + padre2[punto_corte:]\n",
    "    hijo2 = padre2[:punto_corte] + padre1[punto_corte:]\n",
    "    return hijo1, hijo2"
   ]
  },
  {
   "cell_type": "code",
   "execution_count": 35,
   "metadata": {},
   "outputs": [],
   "source": [
    "# Esta función introduce mutaciones aleatorias en un individuo con una tasa de mutación dada \n",
    "# Recorre cada posición del individuo y, con una probabilidad igual a la tasa \n",
    "# de mutación, cambia la posición de la reina en esa fila.\n",
    "def mutar(individuo, mutation_rate):\n",
    "    for i in range(len(individuo)):\n",
    "        if random.random() < mutation_rate:\n",
    "            individuo[i] = random.randint(0, len(individuo) - 1)\n",
    "    return individuo"
   ]
  },
  {
   "cell_type": "code",
   "execution_count": 36,
   "metadata": {},
   "outputs": [],
   "source": [
    "def algoritmo_genetico(size, population_size, generations, mutation_rate):\n",
    "    # Creamos una población inicial de tamaño 'population_size' con individuos aleatorios de tamaño 'size'\n",
    "    poblacion = crear_poblacion(size, population_size)\n",
    "    \n",
    "    # Comienza el bucle principal que ejecuta las generaciones del algoritmo genético\n",
    "    for _ in range(generations):\n",
    "        # Ordenamos la población según su fitness, de mayor a menor\n",
    "        poblacion = sorted(poblacion, key=lambda x: fitness(x), reverse=True)\n",
    "        \n",
    "        # Comprobamos si el mejor individuo tiene un fitness perfecto (solución encontrada)\n",
    "        if fitness(poblacion[0]) == size:\n",
    "            break  # Si es así, salimos del bucle y devolvemos esta solución como la óptima\n",
    "        \n",
    "        # Creamos una nueva generación de individuos\n",
    "        nueva_generacion = []\n",
    "        \n",
    "        # Realizamos la reproducción de cruce  y mutación para crear nueva descendencia\n",
    "        for _ in range(population_size // 2):  # Realizamos este proceso para la mitad de la población\n",
    "            # Seleccionamos dos padres de la población actual\n",
    "            padre1, padre2 = seleccionar_padres(poblacion)\n",
    "            \n",
    "            # Cruzamos los padres para obtener dos hijos\n",
    "            hijo1, hijo2 = cruzar(padre1, padre2)\n",
    "            \n",
    "            # Aplicamos mutación a los hijos con una tasa dada\n",
    "            hijo1 = mutar(hijo1, mutation_rate)\n",
    "            hijo2 = mutar(hijo2, mutation_rate)\n",
    "            \n",
    "            # Agregamos los hijos a la nueva generación\n",
    "            nueva_generacion.append(hijo1)\n",
    "            nueva_generacion.append(hijo2)\n",
    "        \n",
    "        # Actualizamos la población con la nueva generación de individuos\n",
    "        poblacion = nueva_generacion\n",
    "    \n",
    "    # Devolvemos el mejor individuo encontrado (solución o la más cercana)\n",
    "    return poblacion[0]\n"
   ]
  },
  {
   "cell_type": "code",
   "execution_count": 37,
   "metadata": {},
   "outputs": [
    {
     "name": "stdout",
     "output_type": "stream",
     "text": [
      "Solución encontrada: [3, 5, 7, 2, 0, 6, 4, 1]\n"
     ]
    }
   ],
   "source": [
    "size = 8  # N reinas\n",
    "population_size = 100 # tamaño de la poblacion\n",
    "generations = 1000 # nro de generaciones\n",
    "mutation_rate = 0.1 # tasa de mutacion\n",
    "\n",
    "solucion = algoritmo_genetico(size, population_size, generations, mutation_rate)\n",
    "print(\"Solución encontrada:\", solucion)"
   ]
  }
 ],
 "metadata": {
  "kernelspec": {
   "display_name": "Python 3",
   "language": "python",
   "name": "python3"
  },
  "language_info": {
   "codemirror_mode": {
    "name": "ipython",
    "version": 3
   },
   "file_extension": ".py",
   "mimetype": "text/x-python",
   "name": "python",
   "nbconvert_exporter": "python",
   "pygments_lexer": "ipython3",
   "version": "3.9.1"
  }
 },
 "nbformat": 4,
 "nbformat_minor": 2
}
